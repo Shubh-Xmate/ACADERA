{
  "nbformat": 4,
  "nbformat_minor": 0,
  "metadata": {
    "colab": {
      "provenance": [],
      "include_colab_link": true
    },
    "kernelspec": {
      "name": "python3",
      "display_name": "Python 3"
    },
    "language_info": {
      "name": "python"
    },
    "accelerator": "GPU",
    "gpuClass": "standard"
  },
  "cells": [
    {
      "cell_type": "markdown",
      "metadata": {
        "id": "view-in-github",
        "colab_type": "text"
      },
      "source": [
        "<a href=\"https://colab.research.google.com/github/Mayank-Bansal24/ACADERA/blob/main/default_weightst05.ipynb\" target=\"_parent\"><img src=\"https://colab.research.google.com/assets/colab-badge.svg\" alt=\"Open In Colab\"/></a>"
      ]
    },
    {
      "cell_type": "code",
      "source": [
        "import numpy as np\n",
        "import tensorflow as tf\n",
        "from tensorflow.keras import losses as lo_ss\n",
        "from tensorflow.keras.models import Sequential\n",
        "from tensorflow.keras.layers import LSTM\n",
        "from tensorflow.keras.layers import Dense, Dropout\n",
        "import string\n",
        "import pandas as pd\n",
        "from matplotlib import pyplot as plt\n",
        "from sklearn.preprocessing import StandardScaler\n",
        "import seaborn as sns\n",
        "from sklearn import model_selection\n",
        "from sklearn.datasets import make_classification\n",
        "from sklearn.utils import class_weight\n",
        "from sklearn.metrics import classification_report , roc_auc_score\n",
        "import keras \n",
        "import keras.backend as K\n",
        "from google.colab import drive\n",
        "from numpy import savetxt"
      ],
      "metadata": {
        "id": "V1kLUX7gJ3N_"
      },
      "execution_count": 85,
      "outputs": []
    },
    {
      "cell_type": "code",
      "source": [
        "drive.mount('/content/gdrive')\n"
      ],
      "metadata": {
        "colab": {
          "base_uri": "https://localhost:8080/"
        },
        "id": "HXmXAIAJArT2",
        "outputId": "1db00304-c1b4-4b98-f4a6-b8702bd7b8b0"
      },
      "execution_count": 86,
      "outputs": [
        {
          "output_type": "stream",
          "name": "stdout",
          "text": [
            "Drive already mounted at /content/gdrive; to attempt to forcibly remount, call drive.mount(\"/content/gdrive\", force_remount=True).\n"
          ]
        }
      ]
    },
    {
      "cell_type": "code",
      "source": [
        "t=5"
      ],
      "metadata": {
        "id": "uLTug-YJDW8D"
      },
      "execution_count": 87,
      "outputs": []
    },
    {
      "cell_type": "code",
      "source": [
        "import os\n",
        "os.chdir('/content/gdrive/MyDrive/laplstm/default class weights/t'+str(t))"
      ],
      "metadata": {
        "id": "ubPkwGQnA8Wx"
      },
      "execution_count": 88,
      "outputs": []
    },
    {
      "cell_type": "code",
      "source": [
        "\n",
        "github_raw_link=\"https://raw.githubusercontent.com/Aryansh085/LAP/main/858417d1-7d54-4115-a01b-fdda5e03ada3_testing_combined_rows4035_disc_1_0p9_MULTIPLY_preproces_155cols.csv\"\n",
        "df1=pd.read_csv((github_raw_link),header = None)\n",
        "dftemp=np.array(df1)\n",
        "dftemp.shape\n",
        "dftemp2=dftemp[:,5:]\n",
        "dftemp2=np.array(dftemp2)\n",
        "print(dftemp2.shape)"
      ],
      "metadata": {
        "id": "3UWvhrydJ8hA",
        "colab": {
          "base_uri": "https://localhost:8080/"
        },
        "outputId": "8d12a3c4-8cd6-4aa4-a92a-47c4716ce0d0"
      },
      "execution_count": 89,
      "outputs": [
        {
          "output_type": "stream",
          "name": "stdout",
          "text": [
            "(4035, 150)\n"
          ]
        }
      ]
    },
    {
      "cell_type": "code",
      "source": [
        "# dftemp2\n",
        "dftemp2.shape\n",
        "# dftemp2=pd.DataFrame(dftemp2)\n",
        "# dftemp2.head()"
      ],
      "metadata": {
        "colab": {
          "base_uri": "https://localhost:8080/"
        },
        "id": "h00YSxPn8rUk",
        "outputId": "24858965-a44c-44b4-8281-55447420e3f4"
      },
      "execution_count": 90,
      "outputs": [
        {
          "output_type": "execute_result",
          "data": {
            "text/plain": [
              "(4035, 150)"
            ]
          },
          "metadata": {},
          "execution_count": 90
        }
      ]
    },
    {
      "cell_type": "markdown",
      "source": [
        "--> muliply the reward of that instance into the loss of that instance to give weight"
      ],
      "metadata": {
        "id": "pPfqIsthYP2X"
      }
    },
    {
      "cell_type": "code",
      "source": [
        "from sklearn.preprocessing import StandardScaler\n",
        "\n",
        "slr=StandardScaler()\n",
        "slr.fit(dftemp2)\n",
        "dftemp2 = slr.transform(dftemp2)"
      ],
      "metadata": {
        "id": "kWYAqDfnO_1i"
      },
      "execution_count": 91,
      "outputs": []
    },
    {
      "cell_type": "code",
      "source": [
        "# f1-score function\n",
        "def get_f1(y_true, y_pred): #taken from old keras source code\n",
        "    true_positives = K.sum(K.round(K.clip(y_true * y_pred, 0, 1)))\n",
        "    possible_positives = K.sum(K.round(K.clip(y_true, 0, 1)))\n",
        "    predicted_positives = K.sum(K.round(K.clip(y_pred, 0, 1)))\n",
        "    precision = true_positives / (predicted_positives + K.epsilon())\n",
        "    recall = true_positives / (possible_positives + K.epsilon())\n",
        "    f1_val = 2*(precision*recall)/(precision+recall+K.epsilon())\n",
        "    return f1_val\n",
        "    "
      ],
      "metadata": {
        "id": "4i-6LDL58GyW"
      },
      "execution_count": 92,
      "outputs": []
    },
    {
      "cell_type": "code",
      "source": [],
      "metadata": {
        "id": "83zizsyvKHzh"
      },
      "execution_count": 92,
      "outputs": []
    },
    {
      "cell_type": "code",
      "source": [
        "y=np.array(dftemp[:,0])\n",
        "print(y)\n",
        "y_new=y[t:]\n",
        "y_new.shape\n"
      ],
      "metadata": {
        "colab": {
          "base_uri": "https://localhost:8080/"
        },
        "id": "XmXnkjOiKIGQ",
        "outputId": "4268aa3f-eaf6-45ef-85dd-bce3b94595e3"
      },
      "execution_count": 93,
      "outputs": [
        {
          "output_type": "stream",
          "name": "stdout",
          "text": [
            "[2. 0. 0. ... 0. 2. 2.]\n"
          ]
        },
        {
          "output_type": "execute_result",
          "data": {
            "text/plain": [
              "(4030,)"
            ]
          },
          "metadata": {},
          "execution_count": 93
        }
      ]
    },
    {
      "cell_type": "code",
      "source": [
        "x=np.array(dftemp2)\n",
        "# print(x)\n",
        "# print(x.shape)\n",
        "x.shape,y_new.shape"
      ],
      "metadata": {
        "colab": {
          "base_uri": "https://localhost:8080/"
        },
        "id": "3JPzLQQmKhZk",
        "outputId": "ae2cc1e2-de97-478a-cf51-2252f3edd8a1"
      },
      "execution_count": 94,
      "outputs": [
        {
          "output_type": "execute_result",
          "data": {
            "text/plain": [
              "((4035, 150), (4030,))"
            ]
          },
          "metadata": {},
          "execution_count": 94
        }
      ]
    },
    {
      "cell_type": "code",
      "source": [
        "x_3d=[]\n",
        "for i in range(4035-t):\n",
        "  tmp=[]\n",
        "  for j in range(t):\n",
        "    tmp.append(x[j+i])\n",
        "  x_3d.append(tmp)\n",
        "x_3d= np.array(x_3d)\n",
        "x_3d.shape"
      ],
      "metadata": {
        "colab": {
          "base_uri": "https://localhost:8080/"
        },
        "id": "hdDY6fhENZ2-",
        "outputId": "ddbdaddb-3917-40ff-e673-bff42fc1c797"
      },
      "execution_count": 95,
      "outputs": [
        {
          "output_type": "execute_result",
          "data": {
            "text/plain": [
              "(4030, 5, 150)"
            ]
          },
          "metadata": {},
          "execution_count": 95
        }
      ]
    },
    {
      "cell_type": "code",
      "source": [
        "train_test_ratio=0.8\n",
        "print(x_3d.shape[0])\n",
        "x_train=[]\n",
        "y_train=[]\n",
        "x_test=[]\n",
        "y_test=[]\n",
        "for i in range(x_3d.shape[0]):\n",
        "  l=[]\n",
        "  ly=[]\n",
        "  no=np.random.randint(100)\n",
        "  if(no<80):\n",
        "    l=x_3d[i]\n",
        "    ly=y_new[i]\n",
        "    x_train.append(l)\n",
        "    y_train.append(ly)\n",
        "  else:\n",
        "    l=x_3d[i]\n",
        "    ly=y_new[i]\n",
        "    x_test.append(l)\n",
        "    y_test.append(ly)\n",
        "\n",
        "\n",
        "x_train=np.array(x_train)\n",
        "y_train=np.array(y_train)\n",
        "x_test=np.array(x_test)\n",
        "y_test=np.array(y_test)\n",
        "x_train.shape,y_train.shape,x_test.shape,y_test.shape"
      ],
      "metadata": {
        "colab": {
          "base_uri": "https://localhost:8080/"
        },
        "id": "AwnZ3Mh1Khi8",
        "outputId": "9d668bd4-a715-4a89-8669-e1c5d67edfbb"
      },
      "execution_count": 96,
      "outputs": [
        {
          "output_type": "stream",
          "name": "stdout",
          "text": [
            "4030\n"
          ]
        },
        {
          "output_type": "execute_result",
          "data": {
            "text/plain": [
              "((3260, 5, 150), (3260,), (770, 5, 150), (770,))"
            ]
          },
          "metadata": {},
          "execution_count": 96
        }
      ]
    },
    {
      "cell_type": "code",
      "source": [
        "cnt0=0\n",
        "cnt1=0\n",
        "cnt2=0\n",
        "for i in range(x_train.shape[0]):\n",
        "  if(y_train[i]==0):\n",
        "    cnt0+=1\n",
        "  elif(y_train[i]==1):\n",
        "    cnt1+=1\n",
        "  elif(y_train[i]==2):\n",
        "    cnt2+=1\n",
        "print(cnt0)\n",
        "print(cnt1)\n",
        "print(cnt2)  "
      ],
      "metadata": {
        "colab": {
          "base_uri": "https://localhost:8080/"
        },
        "id": "xlijLVYecmcq",
        "outputId": "9b56cc24-4db1-4b9c-a8e8-937f6a5feebc"
      },
      "execution_count": 97,
      "outputs": [
        {
          "output_type": "stream",
          "name": "stdout",
          "text": [
            "1487\n",
            "849\n",
            "924\n"
          ]
        }
      ]
    },
    {
      "cell_type": "code",
      "source": [
        "sklearn_weights=class_weight.compute_class_weight(class_weight='balanced',classes=np.unique(y_train),y=y_train)\n",
        "sklearn_weights=dict(zip(np.unique(y_train),sklearn_weights))\n",
        "sklearn_weights"
      ],
      "metadata": {
        "colab": {
          "base_uri": "https://localhost:8080/"
        },
        "id": "EYzwuCcAbDKT",
        "outputId": "9f29a017-e21c-43d1-b1da-a0ac6afdf575"
      },
      "execution_count": 98,
      "outputs": [
        {
          "output_type": "execute_result",
          "data": {
            "text/plain": [
              "{0.0: 0.7307778524994396, 1.0: 1.2799371809972517, 2.0: 1.176046176046176}"
            ]
          },
          "metadata": {},
          "execution_count": 98
        }
      ]
    },
    {
      "cell_type": "code",
      "source": [
        "\n",
        "# model = Sequential()\n",
        "# model.add(LSTM(200, activation='relu', return_sequences=True, input_shape=( t,150,)))\n",
        "# model.add(LSTM(100, activation='relu', return_sequences=True))\n",
        "# model.add(LSTM(50, activation='relu', return_sequences=True))\n",
        "# model.add(LSTM(25, activation='relu'))\n",
        "# model.add(Dense(20, activation='relu'))\n",
        "# model.add(Dense(10, activation='relu'))\n",
        "# model.add(Dense(3))\n",
        "# model.compile(optimizer='SGD', loss='sparse_categorical_crossentropy',metrics=['accuracy'])\n",
        "# history = model.fit(x_train, y_train, epochs=10, validation_split=0.2, verbose=1)\n",
        "# test_output = model.predict(x_test, verbose=1)\n",
        "# # history = model.fit(X, Y, epochs=1000, validation_split=0.2, verbose=1)\n",
        "# # test_output = model.predict(x=, verbose=0)\n",
        "# # print(test_output)"
      ],
      "metadata": {
        "id": "rhgsSos1KIbA"
      },
      "execution_count": 99,
      "outputs": []
    },
    {
      "cell_type": "code",
      "source": [
        "# sklearn_weights={0:1738,1:2348,2:2362}\n",
        "model = Sequential()\n",
        "model.add(LSTM(200, activation='relu', return_sequences=True, input_shape=( t,150,)))\n",
        "model.add(LSTM(400, activation='relu', return_sequences=True))\n",
        "model.add(LSTM(800, activation='relu', return_sequences=True))\n",
        "model.add(LSTM(150, activation='relu'))\n",
        "model.add(Dense(100, activation='relu'))\n",
        "model.add(Dense(64, activation='relu'))\n",
        "model.add(Dense(10, activation='relu'))\n",
        "model.add(Dense(3,activation='sigmoid'))\n",
        "optimi=keras.optimizers.Adam()\n",
        "model.compile(optimizer=optimi, loss='sparse_categorical_crossentropy',metrics=['accuracy',get_f1])\n",
        "\n",
        "# history = model.fit(x_train, y_train, epochs=30, validation_split=0.2, verbose=1)\n",
        "history = model.fit(x_train, y_train, epochs=25, validation_split=0.2, verbose=1,class_weight=sklearn_weights)\n",
        "test_output = model.predict(x_test, verbose=1)\n"
      ],
      "metadata": {
        "colab": {
          "base_uri": "https://localhost:8080/"
        },
        "id": "lwHPGS2iXMXc",
        "outputId": "d21be1ee-7587-4d5e-c266-6c618b921580"
      },
      "execution_count": 100,
      "outputs": [
        {
          "output_type": "stream",
          "name": "stderr",
          "text": [
            "WARNING:tensorflow:Layer lstm_16 will not use cuDNN kernels since it doesn't meet the criteria. It will use a generic GPU kernel as fallback when running on GPU.\n",
            "WARNING:tensorflow:Layer lstm_17 will not use cuDNN kernels since it doesn't meet the criteria. It will use a generic GPU kernel as fallback when running on GPU.\n",
            "WARNING:tensorflow:Layer lstm_18 will not use cuDNN kernels since it doesn't meet the criteria. It will use a generic GPU kernel as fallback when running on GPU.\n",
            "WARNING:tensorflow:Layer lstm_19 will not use cuDNN kernels since it doesn't meet the criteria. It will use a generic GPU kernel as fallback when running on GPU.\n"
          ]
        },
        {
          "output_type": "stream",
          "name": "stdout",
          "text": [
            "Epoch 1/25\n",
            "82/82 [==============================] - 8s 57ms/step - loss: 1.0957 - accuracy: 0.3336 - get_f1: 1.1871 - val_loss: 1.1048 - val_accuracy: 0.2132 - val_get_f1: 1.1684\n",
            "Epoch 2/25\n",
            "82/82 [==============================] - 4s 50ms/step - loss: 1.0532 - accuracy: 0.3715 - get_f1: 1.2190 - val_loss: 1.1277 - val_accuracy: 0.3113 - val_get_f1: 1.6896\n",
            "Epoch 3/25\n",
            "82/82 [==============================] - 6s 70ms/step - loss: 0.9134 - accuracy: 0.5123 - get_f1: 1.3068 - val_loss: 1.3695 - val_accuracy: 0.3144 - val_get_f1: 1.2770\n",
            "Epoch 4/25\n",
            "82/82 [==============================] - 4s 51ms/step - loss: 0.6340 - accuracy: 0.6856 - get_f1: 1.0102 - val_loss: 1.8839 - val_accuracy: 0.3804 - val_get_f1: 1.0981\n",
            "Epoch 5/25\n",
            "82/82 [==============================] - 4s 51ms/step - loss: 0.4179 - accuracy: 0.8255 - get_f1: 0.8892 - val_loss: 1.8715 - val_accuracy: 0.3236 - val_get_f1: 1.0366\n",
            "Epoch 6/25\n",
            "82/82 [==============================] - 4s 49ms/step - loss: 0.3200 - accuracy: 0.8712 - get_f1: 0.8830 - val_loss: 2.3416 - val_accuracy: 0.3773 - val_get_f1: 0.9543\n",
            "Epoch 7/25\n",
            "82/82 [==============================] - 4s 49ms/step - loss: 0.2160 - accuracy: 0.9057 - get_f1: 0.8865 - val_loss: 2.6135 - val_accuracy: 0.3712 - val_get_f1: 0.9429\n",
            "Epoch 8/25\n",
            "82/82 [==============================] - 4s 48ms/step - loss: 0.1499 - accuracy: 0.9421 - get_f1: 0.8703 - val_loss: 2.8342 - val_accuracy: 0.3850 - val_get_f1: 0.9296\n",
            "Epoch 9/25\n",
            "82/82 [==============================] - 4s 51ms/step - loss: 0.1063 - accuracy: 0.9605 - get_f1: 0.8787 - val_loss: 3.7162 - val_accuracy: 0.4003 - val_get_f1: 0.8404\n",
            "Epoch 10/25\n",
            "82/82 [==============================] - 4s 49ms/step - loss: 0.1028 - accuracy: 0.9601 - get_f1: 0.8671 - val_loss: 4.1020 - val_accuracy: 0.3957 - val_get_f1: 0.7867\n",
            "Epoch 11/25\n",
            "82/82 [==============================] - 4s 50ms/step - loss: 0.0942 - accuracy: 0.9628 - get_f1: 0.7757 - val_loss: 3.4929 - val_accuracy: 0.3819 - val_get_f1: 0.8637\n",
            "Epoch 12/25\n",
            "82/82 [==============================] - 4s 50ms/step - loss: 0.0804 - accuracy: 0.9716 - get_f1: 0.7995 - val_loss: 2.9687 - val_accuracy: 0.3712 - val_get_f1: 0.8586\n",
            "Epoch 13/25\n",
            "82/82 [==============================] - 4s 48ms/step - loss: 0.0737 - accuracy: 0.9804 - get_f1: 0.8107 - val_loss: 2.8004 - val_accuracy: 0.4018 - val_get_f1: 0.8812\n",
            "Epoch 14/25\n",
            "82/82 [==============================] - 4s 48ms/step - loss: 0.0600 - accuracy: 0.9824 - get_f1: 0.7925 - val_loss: 3.8642 - val_accuracy: 0.4018 - val_get_f1: 0.8244\n",
            "Epoch 15/25\n",
            "82/82 [==============================] - 4s 49ms/step - loss: 0.0473 - accuracy: 0.9877 - get_f1: 0.7531 - val_loss: 3.7925 - val_accuracy: 0.3773 - val_get_f1: 0.8305\n",
            "Epoch 16/25\n",
            "82/82 [==============================] - 4s 48ms/step - loss: 0.0342 - accuracy: 0.9893 - get_f1: 0.7560 - val_loss: 4.2968 - val_accuracy: 0.3911 - val_get_f1: 0.8033\n",
            "Epoch 17/25\n",
            "82/82 [==============================] - 6s 72ms/step - loss: 0.0229 - accuracy: 0.9935 - get_f1: 0.7304 - val_loss: 4.6817 - val_accuracy: 0.3804 - val_get_f1: 0.8050\n",
            "Epoch 18/25\n",
            "82/82 [==============================] - 4s 49ms/step - loss: 0.0171 - accuracy: 0.9939 - get_f1: 0.7148 - val_loss: 4.2860 - val_accuracy: 0.3466 - val_get_f1: 0.8518\n",
            "Epoch 19/25\n",
            "82/82 [==============================] - 4s 49ms/step - loss: 0.0375 - accuracy: 0.9889 - get_f1: 0.7463 - val_loss: 4.1175 - val_accuracy: 0.3712 - val_get_f1: 0.8177\n",
            "Epoch 20/25\n",
            "82/82 [==============================] - 4s 50ms/step - loss: 0.0189 - accuracy: 0.9954 - get_f1: 0.7533 - val_loss: 7.9450 - val_accuracy: 0.3773 - val_get_f1: 0.7871\n",
            "Epoch 21/25\n",
            "82/82 [==============================] - 4s 49ms/step - loss: 0.0140 - accuracy: 0.9973 - get_f1: 0.7175 - val_loss: 5.6666 - val_accuracy: 0.3880 - val_get_f1: 0.7850\n",
            "Epoch 22/25\n",
            "82/82 [==============================] - 4s 49ms/step - loss: 0.0786 - accuracy: 0.9774 - get_f1: 0.7346 - val_loss: 3.2191 - val_accuracy: 0.3819 - val_get_f1: 0.8745\n",
            "Epoch 23/25\n",
            "82/82 [==============================] - 4s 48ms/step - loss: 0.0409 - accuracy: 0.9893 - get_f1: 0.8037 - val_loss: 4.0360 - val_accuracy: 0.3942 - val_get_f1: 0.8242\n",
            "Epoch 24/25\n",
            "82/82 [==============================] - 4s 49ms/step - loss: 0.0377 - accuracy: 0.9896 - get_f1: 0.7570 - val_loss: 3.9493 - val_accuracy: 0.4095 - val_get_f1: 0.8222\n",
            "Epoch 25/25\n",
            "82/82 [==============================] - 4s 50ms/step - loss: 0.0485 - accuracy: 0.9873 - get_f1: 0.7040 - val_loss: 4.5009 - val_accuracy: 0.4018 - val_get_f1: 0.8409\n",
            "25/25 [==============================] - 1s 5ms/step\n"
          ]
        }
      ]
    },
    {
      "cell_type": "code",
      "source": [
        "test_output_1=np.array([np.argmax(i)  for i in test_output])\n",
        "from sklearn.metrics import confusion_matrix,accuracy_score\n",
        "print(confusion_matrix(y_test,test_output_1))\n",
        "test_output=pd.DataFrame(test_output)\n",
        "print(accuracy_score(y_test,test_output_1))\n"
      ],
      "metadata": {
        "id": "Q_hmR6MK_Bq5",
        "colab": {
          "base_uri": "https://localhost:8080/"
        },
        "outputId": "32244e29-6932-446d-a3e5-00664063c0ec"
      },
      "execution_count": 101,
      "outputs": [
        {
          "output_type": "stream",
          "name": "stdout",
          "text": [
            "[[259  34  43]\n",
            " [ 98 102   6]\n",
            " [106   6 116]]\n",
            "0.6194805194805195\n"
          ]
        }
      ]
    },
    {
      "cell_type": "code",
      "source": [
        "print(get_f1(y_test.astype('float32'), test_output_1.astype('float32')))"
      ],
      "metadata": {
        "colab": {
          "base_uri": "https://localhost:8080/"
        },
        "id": "ZsHojwC3G8gQ",
        "outputId": "0a7f4121-41e3-411e-c6a9-e836e5a36ca2"
      },
      "execution_count": 102,
      "outputs": [
        {
          "output_type": "stream",
          "name": "stdout",
          "text": [
            "tf.Tensor(0.6207827, shape=(), dtype=float32)\n"
          ]
        }
      ]
    },
    {
      "cell_type": "code",
      "source": [
        "x_train_reshaped = x_train.reshape(x_train.shape[0], -1)\n",
        "x_test_reshaped = x_test.reshape(x_test.shape[0], -1)\n",
        "savetxt('arrxtrain.csv', x_train_reshaped, delimiter=',')\n",
        "savetxt('arrytrain.csv', y_train, delimiter=',')\n",
        "savetxt('arrxtest.csv', x_test_reshaped, delimiter=',')\n",
        "savetxt('arrytest.csv', y_test, delimiter=',')"
      ],
      "metadata": {
        "id": "oxhtZHtkBWOe"
      },
      "execution_count": 103,
      "outputs": []
    },
    {
      "cell_type": "code",
      "source": [
        "t"
      ],
      "metadata": {
        "colab": {
          "base_uri": "https://localhost:8080/"
        },
        "id": "5dkuklgOU1cy",
        "outputId": "540b05aa-def1-47b8-c522-7f9a1132c6e7"
      },
      "execution_count": 104,
      "outputs": [
        {
          "output_type": "execute_result",
          "data": {
            "text/plain": [
              "5"
            ]
          },
          "metadata": {},
          "execution_count": 104
        }
      ]
    }
  ]
}